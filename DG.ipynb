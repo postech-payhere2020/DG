{
 "cells": [
  {
   "cell_type": "code",
   "execution_count": 1,
   "metadata": {},
   "outputs": [],
   "source": [
    "import sqlite3\n",
    "import pandas as pd\n",
    "from pandas import Series, DataFrame"
   ]
  },
  {
   "cell_type": "code",
   "execution_count": 2,
   "metadata": {},
   "outputs": [],
   "source": [
    "_public_key = ''"
   ]
  },
  {
   "cell_type": "code",
   "execution_count": null,
   "metadata": {},
   "outputs": [],
   "source": []
  },
  {
   "cell_type": "code",
   "execution_count": null,
   "metadata": {},
   "outputs": [],
   "source": []
  },
  {
   "cell_type": "code",
   "execution_count": null,
   "metadata": {},
   "outputs": [],
   "source": []
  },
  {
   "cell_type": "markdown",
   "metadata": {},
   "source": [
    "## 운전면허 진위여부 API \n",
    "https://developer.codef.io/products/public/each/ef/driver-license"
   ]
  },
  {
   "cell_type": "code",
   "execution_count": 3,
   "metadata": {
    "scrolled": false
   },
   "outputs": [
    {
     "name": "stdout",
     "output_type": "stream",
     "text": [
      "paramter: {'organization': '0001', 'userName': '홍길동', 'birthDate': '19820123', 'licenseNo01': '23', 'licenseNo02': '08', 'licenseNo03': '000000', 'licenseNo04': '61', 'serialNo': 'NO9PTP'} \n",
      "\n",
      "result: {\"result\": {\"code\": \"CF-00000\", \"extraMessage\": \"\", \"message\": \"성공\", \"transactionId\": \"74afe553f45e4856839bdee58c6d69c5\"}, \"data\": {\"resUserNm\": \"홍길동\", \"commBirthDate\": \"19820123\", \"resAuthenticityDesc1\": \"전산 자료와 일치 합니다.\", \"resAuthenticityDesc2\": \"식별번호가 일치합니다.\", \"resAuthenticity\": \"1\", \"resLicenseNumber\": \"230804260000\", \"resSearchDateTime\": \"\"}} \n",
      "\n",
      "data \": {\"resUserNm\": \"홍길동\", \"commBirthDate\": \"19820123\", \"resAuthenticityDesc1\": \"전산 자료와 일치 합니다.\", \"resAuthenticityDesc2\": \"식별번호가 일치합니다.\", \"resAuthenticity\": \"1\", \"resLicenseNumber\": \"230804260000\", \"resSearchDateTime\": \"\"}} \n",
      "\n",
      "DB:  {'organization': '0001', 'userName': '홍길동', 'birthDate': '19820123', 'licenseNo01': '23', 'licenseNo02': '08', 'licenseNo03': '000000', 'licenseNo04': '61', 'serialNo': 'NO9PTP', 'resUserNm': '홍길동', 'commBirthDate': '19820123', 'resAuthenticityDesc1': '전산 자료와 일치 합니다.', 'resAuthenticityDesc2': '식별번호가 일치합니다.', 'resAuthenticity': '1', 'resLicenseNumber': '230804260000', 'resSearchDateTime': ''}\n"
     ]
    }
   ],
   "source": [
    "%run 07_product/10_driver_license.py -- _public_key "
   ]
  },
  {
   "cell_type": "code",
   "execution_count": null,
   "metadata": {},
   "outputs": [],
   "source": []
  },
  {
   "cell_type": "code",
   "execution_count": 4,
   "metadata": {},
   "outputs": [
    {
     "name": "stdout",
     "output_type": "stream",
     "text": [
      "(0, '0001', '홍길동', '19820123', '23', '08', '000000', '61', 'NO9PTP', '홍길동', '19820123', '전산 자료와 일치 합니다.', '식별번호가 일치합니다.', '1', '230804260000', '')\n"
     ]
    }
   ],
   "source": [
    "##SQLITE QUERY\n",
    "c=conn.cursor()\n",
    "sql10=\"SELECT * FROM driver_license WHERE organization= :organization AND userName= :userName AND birthDate=:birthDate AND licenseNo01=:licenseNo01 and licenseNo02=:licenseNo02 AND licenseNo03=:licenseNo03 AND licenseNo04=:licenseNo04 AND serialNo=:serialNo\"\n",
    "c.execute(sql10, {'organization': '0001', 'userName': '홍길동', 'birthDate': '19820123', 'licenseNo01': '23', 'licenseNo02': '08', 'licenseNo03': '000000', 'licenseNo04': '61', 'serialNo': 'NO9PTP'}) #입력값\n",
    "\n",
    "for row in c.fetchall():\n",
    "    print(row)"
   ]
  },
  {
   "cell_type": "markdown",
   "metadata": {},
   "source": [
    "## 주민등록 진위여부 API \n",
    "https://developer.codef.io/products/public/each/mw/identity-card\n"
   ]
  },
  {
   "cell_type": "code",
   "execution_count": 5,
   "metadata": {
    "scrolled": false
   },
   "outputs": [
    {
     "name": "stdout",
     "output_type": "stream",
     "text": [
      "paramter: {'organization': '0002', 'certFile': 'BASE64로 Encoding된 인증서 der파일 문자열', 'keyFile': 'BASE64로 Encoding된 인증서 key파일 문자열', 'certPassword': 'RSA암호화된 비밀번호', 'certType': '1', 'identity': '8201231000000', 'issueDate': '20150518', 'userName': '홍길동'} \n",
      "\n",
      "result: {\"result\": {\"code\": \"CF-00000\", \"extraMessage\": \"\", \"message\": \"성공\", \"transactionId\": \"a13c84d84cc94de790055a12b0f69f43\"}, \"data\": {\"resUserNm\": \"홍길동\", \"resUserIdentiyNo\": \"820123*******\", \"resAuthenticityDesc\": \"입력하신 내용은 등록된 내용과 일치합니다.\", \"resAuthenticity\": \"1\"}} \n",
      "\n",
      "data \": {\"resUserNm\": \"홍길동\", \"resUserIdentiyNo\": \"820123*******\", \"resAuthenticityDesc\": \"입력하신 내용은 등록된 내용과 일치합니다.\", \"resAuthenticity\": \"1\"}} \n",
      "\n",
      "DB:  {'organization': '0002', 'certFile': 'BASE64로 Encoding된 인증서 der파일 문자열', 'keyFile': 'BASE64로 Encoding된 인증서 key파일 문자열', 'certPassword': 'RSA암호화된 비밀번호', 'certType': '1', 'identity': '8201231000000', 'issueDate': '20150518', 'userName': '홍길동', 'resUserNm': '홍길동', 'resUserIdentiyNo': '820123*******', 'resAuthenticityDesc': '입력하신 내용은 등록된 내용과 일치합니다.', 'resAuthenticity': '1'}\n"
     ]
    }
   ],
   "source": [
    "%run 07_product/11_identity_card.py -- _public_key "
   ]
  },
  {
   "cell_type": "code",
   "execution_count": null,
   "metadata": {},
   "outputs": [],
   "source": []
  },
  {
   "cell_type": "code",
   "execution_count": 6,
   "metadata": {},
   "outputs": [
    {
     "name": "stdout",
     "output_type": "stream",
     "text": [
      "(0, '0002', 'BASE64로 Encoding된 인증서 der파일 문자열', 'BASE64로 Encoding된 인증서 key파일 문자열', 'RSA암호화된 비밀번호', '1', '8201231000000', '20150518', '홍길동', '홍길동', '820123*******', '입력하신 내용은 등록된 내용과 일치합니다.', '1')\n"
     ]
    }
   ],
   "source": [
    "##SQLITE QUERY\n",
    "c=conn.cursor()\n",
    "sql11=\"SELECT * FROM identity_card WHERE organization= :organization AND certFile= :certFile AND keyFile=:keyFile AND certPassword=:certPassword and certType=:certType AND identity=:identity AND issueDate=:issueDate AND userName=:userName\"\n",
    "c.execute(sql11, {'organization': '0002', 'certFile': 'BASE64로 Encoding된 인증서 der파일 문자열', 'keyFile': 'BASE64로 Encoding된 인증서 key파일 문자열', 'certPassword': 'RSA암호화된 비밀번호', 'certType': '1', 'identity': '8201231000000', 'issueDate': '20150518', 'userName': '홍길동'} ) #입력값\n",
    "\n",
    "for row in c.fetchall():\n",
    "    print(row)"
   ]
  },
  {
   "cell_type": "markdown",
   "metadata": {},
   "source": [
    "## 여권정보 진위여부 API  \n",
    "(보안문자 추가인증이 필요한 경우는 sqlite DB로 만들 수 없어 제외)\n",
    "https://developer.codef.io/products/public/each/mw/passport-data-status"
   ]
  },
  {
   "cell_type": "code",
   "execution_count": 7,
   "metadata": {
    "scrolled": true
   },
   "outputs": [
    {
     "name": "stdout",
     "output_type": "stream",
     "text": [
      "paramter: {'organization': '0002', 'loginType': '2', 'certFile': 'BASE64로 Encoding된 인증서 der파일 문자열', 'keyFile': 'BASE64로 Encoding된 인증서 key파일 문자열', 'certPassword': 'RSA암호화된 비밀번호', 'certType': '1', 'identity': '**************', 'userName1': '홍길동', 'userName': '홍길동', 'passportNo': '11111111', 'issueDate': 'YYYYMMDD', 'expirationDate': 'YYYYMMDD', 'birthDate': 'YYYYMMDD'} \n",
      "\n",
      "result: {\"result\": {\"code\": \"CF-00000\", \"extraMessage\": \"\", \"message\": \"성공\", \"transactionId\": \"f49191408dc94309b654a0fccf2e209c\"}, \"debug\": true, \"data\": {\"resAuthenticity\": \"1\", \"resAuthenticityDesc\": \"\"}} \n",
      "\n",
      "data \": {\"resAuthenticity\": \"1\", \"resAuthenticityDesc\": \"\"}} \n",
      "\n",
      "DB:  {'organization': '0002', 'loginType': '2', 'certFile': 'BASE64로 Encoding된 인증서 der파일 문자열', 'keyFile': 'BASE64로 Encoding된 인증서 key파일 문자열', 'certPassword': 'RSA암호화된 비밀번호', 'certType': '1', 'identity': '**************', 'userName1': '홍길동', 'userName': '홍길동', 'passportNo': '11111111', 'issueDate': 'YYYYMMDD', 'expirationDate': 'YYYYMMDD', 'birthDate': 'YYYYMMDD', 'resAuthenticity': '1', 'resAuthenticityDesc': ''}\n"
     ]
    }
   ],
   "source": [
    "%run 07_product/12_passport_data.py -- _public_key  ##비회원 (py 파일 수정하고 append)"
   ]
  },
  {
   "cell_type": "code",
   "execution_count": 8,
   "metadata": {
    "scrolled": true
   },
   "outputs": [
    {
     "name": "stdout",
     "output_type": "stream",
     "text": [
      "paramter: {'organization': '0002', 'loginType': '0', 'certFile': 'BASE64로 Encoding된 인증서 der파일 문자열', 'keyFile': 'BASE64로 Encoding된 인증서 key파일 문자열', 'certPassword': 'RSA암호화된 비밀번호', 'certType': '1', 'userName': '홍길동', 'passportNo': '11111111', 'issueDate': 'YYYYMMDD', 'expirationDate': 'YYYYMMDD', 'birthDate': 'YYYYMMDD'} \n",
      "\n",
      "result: {\"result\": {\"code\": \"CF-00000\", \"extraMessage\": \"\", \"message\": \"성공\", \"transactionId\": \"f49191408dc94309b654a0fccf2e209c\"}, \"debug\": true, \"data\": {\"resAuthenticity\": \"1\", \"resAuthenticityDesc\": \"\"}} \n",
      "\n",
      "data \": {\"resAuthenticity\": \"1\", \"resAuthenticityDesc\": \"\"}} \n",
      "\n",
      "DB:  {'organization': '0002', 'loginType': '0', 'certFile': 'BASE64로 Encoding된 인증서 der파일 문자열', 'keyFile': 'BASE64로 Encoding된 인증서 key파일 문자열', 'certPassword': 'RSA암호화된 비밀번호', 'certType': '1', 'userName': '홍길동', 'passportNo': '11111111', 'issueDate': 'YYYYMMDD', 'expirationDate': 'YYYYMMDD', 'birthDate': 'YYYYMMDD', 'resAuthenticity': '1', 'resAuthenticityDesc': ''}\n"
     ]
    }
   ],
   "source": [
    "%run 07_product/12_passport_data.py -- _public_key  ##회원"
   ]
  },
  {
   "cell_type": "code",
   "execution_count": null,
   "metadata": {},
   "outputs": [],
   "source": []
  },
  {
   "cell_type": "code",
   "execution_count": 9,
   "metadata": {
    "scrolled": true
   },
   "outputs": [
    {
     "name": "stdout",
     "output_type": "stream",
     "text": [
      "(0, '0002', '0', 'BASE64로 Encoding된 인증서 der파일 문자열', 'BASE64로 Encoding된 인증서 key파일 문자열', 'RSA암호화된 비밀번호', '1', None, None, '홍길동', '11111111', 'YYYYMMDD', 'YYYYMMDD', 'YYYYMMDD', '1', '')\n"
     ]
    }
   ],
   "source": [
    "##SQLITE QUERY\n",
    "c=conn.cursor()\n",
    "sql12=\"SELECT * FROM passport_data WHERE organization= :organization AND loginType= :loginType AND certFile=:certFile AND keyFile=:keyFile and certPassword=:certPassword AND certType=:certType AND userName=:userName AND passportNo=:passportNo AND issueDate=:issueDate AND expirationDate=:expirationDate AND birthDate=:birthDate \"\n",
    "c.execute(sql12,  {'organization': '0002', 'loginType': '0', 'certFile': 'BASE64로 Encoding된 인증서 der파일 문자열', 'keyFile': 'BASE64로 Encoding된 인증서 key파일 문자열', 'certPassword': 'RSA암호화된 비밀번호', 'certType': '1', 'userName': '홍길동', 'passportNo': '11111111', 'issueDate': 'YYYYMMDD', 'expirationDate': 'YYYYMMDD', 'birthDate': 'YYYYMMDD'} ) #입력값\n",
    "\n",
    "for row in c.fetchall():\n",
    "    print(row)"
   ]
  },
  {
   "cell_type": "code",
   "execution_count": null,
   "metadata": {},
   "outputs": [],
   "source": []
  }
 ],
 "metadata": {
  "kernelspec": {
   "display_name": "Python 3",
   "language": "python",
   "name": "python3"
  },
  "language_info": {
   "codemirror_mode": {
    "name": "ipython",
    "version": 3
   },
   "file_extension": ".py",
   "mimetype": "text/x-python",
   "name": "python",
   "nbconvert_exporter": "python",
   "pygments_lexer": "ipython3",
   "version": "3.7.9"
  }
 },
 "nbformat": 4,
 "nbformat_minor": 4
}
